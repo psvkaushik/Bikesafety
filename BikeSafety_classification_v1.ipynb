{
  "nbformat": 4,
  "nbformat_minor": 0,
  "metadata": {
    "colab": {
      "name": "BikeSafety_classification_v1.ipynb",
      "provenance": [],
      "include_colab_link": true
    },
    "kernelspec": {
      "name": "python3",
      "display_name": "Python 3"
    },
    "language_info": {
      "name": "python"
    }
  },
  "cells": [
    {
      "cell_type": "markdown",
      "metadata": {
        "id": "view-in-github",
        "colab_type": "text"
      },
      "source": [
        "<a href=\"https://colab.research.google.com/github/psvkaushik/Bikesafety/blob/main/BikeSafety_classification_v1.ipynb\" target=\"_parent\"><img src=\"https://colab.research.google.com/assets/colab-badge.svg\" alt=\"Open In Colab\"/></a>"
      ]
    },
    {
      "cell_type": "code",
      "metadata": {
        "id": "1nnS5f8TuSUc"
      },
      "source": [
        "# Importing The Libraries\n",
        "import pandas as pd\n",
        "import numpy as np\n",
        "import matplotlib.pyplot as plt\n",
        "\n",
        "%matplotlib inline"
      ],
      "execution_count": null,
      "outputs": []
    },
    {
      "cell_type": "code",
      "metadata": {
        "id": "F-CAKP2WulW3"
      },
      "source": [
        "training = pd.read_csv('/content/train_291021.csv')\n",
        "validation = pd.read_csv('/content/Test_291021_ub.csv')"
      ],
      "execution_count": null,
      "outputs": []
    },
    {
      "cell_type": "code",
      "metadata": {
        "colab": {
          "base_uri": "https://localhost:8080/",
          "height": 220
        },
        "id": "EmmrYm4TvD80",
        "outputId": "dc27ba7d-79fe-4434-94c4-1e0cf56b6fd3"
      },
      "source": [
        "training.head()"
      ],
      "execution_count": null,
      "outputs": [
        {
          "output_type": "execute_result",
          "data": {
            "text/html": [
              "<div>\n",
              "<style scoped>\n",
              "    .dataframe tbody tr th:only-of-type {\n",
              "        vertical-align: middle;\n",
              "    }\n",
              "\n",
              "    .dataframe tbody tr th {\n",
              "        vertical-align: top;\n",
              "    }\n",
              "\n",
              "    .dataframe thead th {\n",
              "        text-align: right;\n",
              "    }\n",
              "</style>\n",
              "<table border=\"1\" class=\"dataframe\">\n",
              "  <thead>\n",
              "    <tr style=\"text-align: right;\">\n",
              "      <th></th>\n",
              "      <th>Ax</th>\n",
              "      <th>Ay</th>\n",
              "      <th>Az</th>\n",
              "      <th>Gx</th>\n",
              "      <th>Gy</th>\n",
              "      <th>Gz</th>\n",
              "      <th>Lat</th>\n",
              "      <th>Long</th>\n",
              "      <th>Speed</th>\n",
              "      <th>Time</th>\n",
              "      <th>T</th>\n",
              "      <th>TIME IN GMT</th>\n",
              "      <th>TIME IN IST</th>\n",
              "      <th>Date</th>\n",
              "      <th>Label</th>\n",
              "    </tr>\n",
              "  </thead>\n",
              "  <tbody>\n",
              "    <tr>\n",
              "      <th>0</th>\n",
              "      <td>-0.190000</td>\n",
              "      <td>-0.011748</td>\n",
              "      <td>1.027379</td>\n",
              "      <td>5.039709</td>\n",
              "      <td>-7.999126</td>\n",
              "      <td>0.796699</td>\n",
              "      <td>17.446962</td>\n",
              "      <td>78.349341</td>\n",
              "      <td>5.97</td>\n",
              "      <td>11522600</td>\n",
              "      <td>115226</td>\n",
              "      <td>11:52:26</td>\n",
              "      <td>17:22:26</td>\n",
              "      <td>291021</td>\n",
              "      <td>BUMP</td>\n",
              "    </tr>\n",
              "    <tr>\n",
              "      <th>1</th>\n",
              "      <td>0.035980</td>\n",
              "      <td>-0.004706</td>\n",
              "      <td>0.999412</td>\n",
              "      <td>4.171667</td>\n",
              "      <td>-7.491471</td>\n",
              "      <td>2.031275</td>\n",
              "      <td>17.446954</td>\n",
              "      <td>78.349344</td>\n",
              "      <td>3.76</td>\n",
              "      <td>11522700</td>\n",
              "      <td>115227</td>\n",
              "      <td>11:52:27</td>\n",
              "      <td>17:22:27</td>\n",
              "      <td>291021</td>\n",
              "      <td>BUMP</td>\n",
              "    </tr>\n",
              "    <tr>\n",
              "      <th>2</th>\n",
              "      <td>-0.217087</td>\n",
              "      <td>-0.008932</td>\n",
              "      <td>1.033301</td>\n",
              "      <td>4.606990</td>\n",
              "      <td>-8.224272</td>\n",
              "      <td>-1.540388</td>\n",
              "      <td>17.445938</td>\n",
              "      <td>78.350865</td>\n",
              "      <td>6.76</td>\n",
              "      <td>11525100</td>\n",
              "      <td>115251</td>\n",
              "      <td>11:52:51</td>\n",
              "      <td>17:22:51</td>\n",
              "      <td>291021</td>\n",
              "      <td>BUMP</td>\n",
              "    </tr>\n",
              "    <tr>\n",
              "      <th>3</th>\n",
              "      <td>-0.066796</td>\n",
              "      <td>-0.001942</td>\n",
              "      <td>0.995049</td>\n",
              "      <td>7.210583</td>\n",
              "      <td>-4.401553</td>\n",
              "      <td>-2.650291</td>\n",
              "      <td>17.445918</td>\n",
              "      <td>78.350898</td>\n",
              "      <td>5.51</td>\n",
              "      <td>11525200</td>\n",
              "      <td>115252</td>\n",
              "      <td>11:52:52</td>\n",
              "      <td>17:22:52</td>\n",
              "      <td>291021</td>\n",
              "      <td>BUMP</td>\n",
              "    </tr>\n",
              "    <tr>\n",
              "      <th>4</th>\n",
              "      <td>0.038911</td>\n",
              "      <td>0.038218</td>\n",
              "      <td>1.015248</td>\n",
              "      <td>-2.379307</td>\n",
              "      <td>-7.822871</td>\n",
              "      <td>4.207030</td>\n",
              "      <td>17.445814</td>\n",
              "      <td>78.350945</td>\n",
              "      <td>0.51</td>\n",
              "      <td>11552200</td>\n",
              "      <td>115522</td>\n",
              "      <td>11:55:22</td>\n",
              "      <td>17:25:22</td>\n",
              "      <td>291021</td>\n",
              "      <td>BUMP</td>\n",
              "    </tr>\n",
              "  </tbody>\n",
              "</table>\n",
              "</div>"
            ],
            "text/plain": [
              "         Ax        Ay        Az        Gx  ...  TIME IN GMT  TIME IN IST    Date  Label\n",
              "0 -0.190000 -0.011748  1.027379  5.039709  ...     11:52:26     17:22:26  291021   BUMP\n",
              "1  0.035980 -0.004706  0.999412  4.171667  ...     11:52:27     17:22:27  291021   BUMP\n",
              "2 -0.217087 -0.008932  1.033301  4.606990  ...     11:52:51     17:22:51  291021   BUMP\n",
              "3 -0.066796 -0.001942  0.995049  7.210583  ...     11:52:52     17:22:52  291021   BUMP\n",
              "4  0.038911  0.038218  1.015248 -2.379307  ...     11:55:22     17:25:22  291021   BUMP\n",
              "\n",
              "[5 rows x 15 columns]"
            ]
          },
          "metadata": {},
          "execution_count": 35
        }
      ]
    },
    {
      "cell_type": "code",
      "metadata": {
        "colab": {
          "base_uri": "https://localhost:8080/",
          "height": 240
        },
        "id": "-qIIpT1wvG_C",
        "outputId": "f8bec64e-9c97-4a5d-b19b-9d6992a04501"
      },
      "source": [
        "validation.tail()"
      ],
      "execution_count": null,
      "outputs": [
        {
          "output_type": "execute_result",
          "data": {
            "text/html": [
              "<div>\n",
              "<style scoped>\n",
              "    .dataframe tbody tr th:only-of-type {\n",
              "        vertical-align: middle;\n",
              "    }\n",
              "\n",
              "    .dataframe tbody tr th {\n",
              "        vertical-align: top;\n",
              "    }\n",
              "\n",
              "    .dataframe thead th {\n",
              "        text-align: right;\n",
              "    }\n",
              "</style>\n",
              "<table border=\"1\" class=\"dataframe\">\n",
              "  <thead>\n",
              "    <tr style=\"text-align: right;\">\n",
              "      <th></th>\n",
              "      <th>Ax</th>\n",
              "      <th>Ay</th>\n",
              "      <th>Az</th>\n",
              "      <th>Gx</th>\n",
              "      <th>Gy</th>\n",
              "      <th>Gz</th>\n",
              "      <th>Lat</th>\n",
              "      <th>Long</th>\n",
              "      <th>Speed</th>\n",
              "      <th>Time</th>\n",
              "      <th>T</th>\n",
              "      <th>TIME IN GMT</th>\n",
              "      <th>TIME IN IST</th>\n",
              "      <th>Date</th>\n",
              "      <th>Label</th>\n",
              "    </tr>\n",
              "  </thead>\n",
              "  <tbody>\n",
              "    <tr>\n",
              "      <th>589</th>\n",
              "      <td>-0.018932</td>\n",
              "      <td>-0.012330</td>\n",
              "      <td>1.019223</td>\n",
              "      <td>4.137670</td>\n",
              "      <td>-7.427476</td>\n",
              "      <td>-0.182718</td>\n",
              "      <td>17.446629</td>\n",
              "      <td>78.349923</td>\n",
              "      <td>8.39</td>\n",
              "      <td>11523700</td>\n",
              "      <td>115237</td>\n",
              "      <td>11:52:37</td>\n",
              "      <td>17:22:37</td>\n",
              "      <td>291021</td>\n",
              "      <td>STRAIGHT</td>\n",
              "    </tr>\n",
              "    <tr>\n",
              "      <th>590</th>\n",
              "      <td>-0.039806</td>\n",
              "      <td>-0.001845</td>\n",
              "      <td>1.010971</td>\n",
              "      <td>3.299417</td>\n",
              "      <td>-6.553495</td>\n",
              "      <td>0.995340</td>\n",
              "      <td>17.446578</td>\n",
              "      <td>78.349993</td>\n",
              "      <td>8.64</td>\n",
              "      <td>11523800</td>\n",
              "      <td>115238</td>\n",
              "      <td>11:52:38</td>\n",
              "      <td>17:22:38</td>\n",
              "      <td>291021</td>\n",
              "      <td>STRAIGHT</td>\n",
              "    </tr>\n",
              "    <tr>\n",
              "      <th>591</th>\n",
              "      <td>-0.003398</td>\n",
              "      <td>-0.032330</td>\n",
              "      <td>1.013010</td>\n",
              "      <td>7.017282</td>\n",
              "      <td>-7.281068</td>\n",
              "      <td>0.283981</td>\n",
              "      <td>17.446528</td>\n",
              "      <td>78.350059</td>\n",
              "      <td>8.53</td>\n",
              "      <td>11523900</td>\n",
              "      <td>115239</td>\n",
              "      <td>11:52:39</td>\n",
              "      <td>17:22:39</td>\n",
              "      <td>291021</td>\n",
              "      <td>STRAIGHT</td>\n",
              "    </tr>\n",
              "    <tr>\n",
              "      <th>592</th>\n",
              "      <td>-0.015686</td>\n",
              "      <td>-0.029902</td>\n",
              "      <td>0.975098</td>\n",
              "      <td>3.259706</td>\n",
              "      <td>-6.838333</td>\n",
              "      <td>-0.220686</td>\n",
              "      <td>17.446480</td>\n",
              "      <td>78.350125</td>\n",
              "      <td>8.38</td>\n",
              "      <td>11524000</td>\n",
              "      <td>115240</td>\n",
              "      <td>11:52:40</td>\n",
              "      <td>17:22:40</td>\n",
              "      <td>291021</td>\n",
              "      <td>STRAIGHT</td>\n",
              "    </tr>\n",
              "    <tr>\n",
              "      <th>593</th>\n",
              "      <td>-0.039615</td>\n",
              "      <td>0.006154</td>\n",
              "      <td>1.038365</td>\n",
              "      <td>5.972885</td>\n",
              "      <td>-7.573077</td>\n",
              "      <td>-0.515481</td>\n",
              "      <td>17.446432</td>\n",
              "      <td>78.350198</td>\n",
              "      <td>8.50</td>\n",
              "      <td>11524100</td>\n",
              "      <td>115241</td>\n",
              "      <td>11:52:41</td>\n",
              "      <td>17:22:41</td>\n",
              "      <td>291021</td>\n",
              "      <td>STRAIGHT</td>\n",
              "    </tr>\n",
              "  </tbody>\n",
              "</table>\n",
              "</div>"
            ],
            "text/plain": [
              "           Ax        Ay        Az  ...  TIME IN IST    Date     Label\n",
              "589 -0.018932 -0.012330  1.019223  ...     17:22:37  291021  STRAIGHT\n",
              "590 -0.039806 -0.001845  1.010971  ...     17:22:38  291021  STRAIGHT\n",
              "591 -0.003398 -0.032330  1.013010  ...     17:22:39  291021  STRAIGHT\n",
              "592 -0.015686 -0.029902  0.975098  ...     17:22:40  291021  STRAIGHT\n",
              "593 -0.039615  0.006154  1.038365  ...     17:22:41  291021  STRAIGHT\n",
              "\n",
              "[5 rows x 15 columns]"
            ]
          },
          "metadata": {},
          "execution_count": 36
        }
      ]
    },
    {
      "cell_type": "code",
      "metadata": {
        "colab": {
          "base_uri": "https://localhost:8080/"
        },
        "id": "5IMVdE7svJBD",
        "outputId": "425ba6a9-4885-4be1-e45d-84b612cdc3ed"
      },
      "source": [
        "print('Train data: {} and Null Values : {}'.format(training.shape, training.isnull().values.any()))\n",
        "print('Validation data: {} and Null Values : {}'.format(validation.shape, validation.isnull().values.any()))\n",
        "\n"
      ],
      "execution_count": null,
      "outputs": [
        {
          "output_type": "stream",
          "name": "stdout",
          "text": [
            "Train data: (2359, 15) and Null Values : False\n",
            "Validation data: (594, 15) and Null Values : False\n"
          ]
        }
      ]
    },
    {
      "cell_type": "code",
      "metadata": {
        "id": "v68_wX0rwEp1"
      },
      "source": [
        "training = training.dropna()"
      ],
      "execution_count": null,
      "outputs": []
    },
    {
      "cell_type": "code",
      "metadata": {
        "colab": {
          "base_uri": "https://localhost:8080/"
        },
        "id": "fk3V-gkSwQFM",
        "outputId": "49ebc2de-3bdd-49d0-886c-7a24e6faacc2"
      },
      "source": [
        "print('Train data: {} and Null Values : {}'.format(training.shape, training.isnull().values.any()))\n",
        "print('Validation data: {} and Null Values : {}'.format(validation.shape, validation.isnull().values.any()))\n",
        "\n"
      ],
      "execution_count": null,
      "outputs": [
        {
          "output_type": "stream",
          "name": "stdout",
          "text": [
            "Train data: (2359, 15) and Null Values : False\n",
            "Validation data: (594, 15) and Null Values : False\n"
          ]
        }
      ]
    },
    {
      "cell_type": "code",
      "metadata": {
        "id": "XhK-WtUKvLAy"
      },
      "source": [
        "# Separating Dependent and Independent Variable\n",
        "y= training['Label']\n",
        "x= training.drop(['Label','TIME IN GMT','TIME IN IST'], axis=1)\n",
        "\n",
        "# Get X and y for testing data\n",
        "y_test = validation['Label']\n",
        "X_test = validation.drop(columns = ['Label','TIME IN GMT','TIME IN IST'], axis=1)"
      ],
      "execution_count": null,
      "outputs": []
    },
    {
      "cell_type": "code",
      "metadata": {
        "colab": {
          "base_uri": "https://localhost:8080/",
          "height": 417
        },
        "id": "oMMdkj2YvN3O",
        "outputId": "efeb8f6b-8982-4226-9474-9c44e4ea6a02"
      },
      "source": [
        "X_test"
      ],
      "execution_count": null,
      "outputs": [
        {
          "output_type": "execute_result",
          "data": {
            "text/html": [
              "<div>\n",
              "<style scoped>\n",
              "    .dataframe tbody tr th:only-of-type {\n",
              "        vertical-align: middle;\n",
              "    }\n",
              "\n",
              "    .dataframe tbody tr th {\n",
              "        vertical-align: top;\n",
              "    }\n",
              "\n",
              "    .dataframe thead th {\n",
              "        text-align: right;\n",
              "    }\n",
              "</style>\n",
              "<table border=\"1\" class=\"dataframe\">\n",
              "  <thead>\n",
              "    <tr style=\"text-align: right;\">\n",
              "      <th></th>\n",
              "      <th>Ax</th>\n",
              "      <th>Ay</th>\n",
              "      <th>Az</th>\n",
              "      <th>Gx</th>\n",
              "      <th>Gy</th>\n",
              "      <th>Gz</th>\n",
              "      <th>Lat</th>\n",
              "      <th>Long</th>\n",
              "      <th>Speed</th>\n",
              "      <th>Time</th>\n",
              "      <th>T</th>\n",
              "      <th>Date</th>\n",
              "    </tr>\n",
              "  </thead>\n",
              "  <tbody>\n",
              "    <tr>\n",
              "      <th>0</th>\n",
              "      <td>-0.042549</td>\n",
              "      <td>-0.032745</td>\n",
              "      <td>1.029706</td>\n",
              "      <td>9.212647</td>\n",
              "      <td>-13.328039</td>\n",
              "      <td>23.468333</td>\n",
              "      <td>17.445803</td>\n",
              "      <td>78.350833</td>\n",
              "      <td>1.56</td>\n",
              "      <td>11394600</td>\n",
              "      <td>113946</td>\n",
              "      <td>291021</td>\n",
              "    </tr>\n",
              "    <tr>\n",
              "      <th>1</th>\n",
              "      <td>0.030097</td>\n",
              "      <td>-0.008447</td>\n",
              "      <td>0.990388</td>\n",
              "      <td>5.012524</td>\n",
              "      <td>-4.093010</td>\n",
              "      <td>3.899903</td>\n",
              "      <td>17.445819</td>\n",
              "      <td>78.350823</td>\n",
              "      <td>2.03</td>\n",
              "      <td>11394700</td>\n",
              "      <td>113947</td>\n",
              "      <td>291021</td>\n",
              "    </tr>\n",
              "    <tr>\n",
              "      <th>2</th>\n",
              "      <td>-0.135728</td>\n",
              "      <td>-0.004175</td>\n",
              "      <td>1.011359</td>\n",
              "      <td>4.069029</td>\n",
              "      <td>-7.175825</td>\n",
              "      <td>0.870097</td>\n",
              "      <td>17.446754</td>\n",
              "      <td>78.349811</td>\n",
              "      <td>6.12</td>\n",
              "      <td>11401100</td>\n",
              "      <td>114011</td>\n",
              "      <td>291021</td>\n",
              "    </tr>\n",
              "    <tr>\n",
              "      <th>3</th>\n",
              "      <td>-0.076040</td>\n",
              "      <td>-0.014950</td>\n",
              "      <td>1.038317</td>\n",
              "      <td>5.916139</td>\n",
              "      <td>-4.253069</td>\n",
              "      <td>0.003564</td>\n",
              "      <td>17.446772</td>\n",
              "      <td>78.349787</td>\n",
              "      <td>4.75</td>\n",
              "      <td>11401200</td>\n",
              "      <td>114012</td>\n",
              "      <td>291021</td>\n",
              "    </tr>\n",
              "    <tr>\n",
              "      <th>4</th>\n",
              "      <td>-0.109327</td>\n",
              "      <td>-0.008365</td>\n",
              "      <td>1.011346</td>\n",
              "      <td>4.758654</td>\n",
              "      <td>-6.622115</td>\n",
              "      <td>0.591058</td>\n",
              "      <td>17.447408</td>\n",
              "      <td>78.348328</td>\n",
              "      <td>5.63</td>\n",
              "      <td>11404300</td>\n",
              "      <td>114043</td>\n",
              "      <td>291021</td>\n",
              "    </tr>\n",
              "    <tr>\n",
              "      <th>...</th>\n",
              "      <td>...</td>\n",
              "      <td>...</td>\n",
              "      <td>...</td>\n",
              "      <td>...</td>\n",
              "      <td>...</td>\n",
              "      <td>...</td>\n",
              "      <td>...</td>\n",
              "      <td>...</td>\n",
              "      <td>...</td>\n",
              "      <td>...</td>\n",
              "      <td>...</td>\n",
              "      <td>...</td>\n",
              "    </tr>\n",
              "    <tr>\n",
              "      <th>589</th>\n",
              "      <td>-0.018932</td>\n",
              "      <td>-0.012330</td>\n",
              "      <td>1.019223</td>\n",
              "      <td>4.137670</td>\n",
              "      <td>-7.427476</td>\n",
              "      <td>-0.182718</td>\n",
              "      <td>17.446629</td>\n",
              "      <td>78.349923</td>\n",
              "      <td>8.39</td>\n",
              "      <td>11523700</td>\n",
              "      <td>115237</td>\n",
              "      <td>291021</td>\n",
              "    </tr>\n",
              "    <tr>\n",
              "      <th>590</th>\n",
              "      <td>-0.039806</td>\n",
              "      <td>-0.001845</td>\n",
              "      <td>1.010971</td>\n",
              "      <td>3.299417</td>\n",
              "      <td>-6.553495</td>\n",
              "      <td>0.995340</td>\n",
              "      <td>17.446578</td>\n",
              "      <td>78.349993</td>\n",
              "      <td>8.64</td>\n",
              "      <td>11523800</td>\n",
              "      <td>115238</td>\n",
              "      <td>291021</td>\n",
              "    </tr>\n",
              "    <tr>\n",
              "      <th>591</th>\n",
              "      <td>-0.003398</td>\n",
              "      <td>-0.032330</td>\n",
              "      <td>1.013010</td>\n",
              "      <td>7.017282</td>\n",
              "      <td>-7.281068</td>\n",
              "      <td>0.283981</td>\n",
              "      <td>17.446528</td>\n",
              "      <td>78.350059</td>\n",
              "      <td>8.53</td>\n",
              "      <td>11523900</td>\n",
              "      <td>115239</td>\n",
              "      <td>291021</td>\n",
              "    </tr>\n",
              "    <tr>\n",
              "      <th>592</th>\n",
              "      <td>-0.015686</td>\n",
              "      <td>-0.029902</td>\n",
              "      <td>0.975098</td>\n",
              "      <td>3.259706</td>\n",
              "      <td>-6.838333</td>\n",
              "      <td>-0.220686</td>\n",
              "      <td>17.446480</td>\n",
              "      <td>78.350125</td>\n",
              "      <td>8.38</td>\n",
              "      <td>11524000</td>\n",
              "      <td>115240</td>\n",
              "      <td>291021</td>\n",
              "    </tr>\n",
              "    <tr>\n",
              "      <th>593</th>\n",
              "      <td>-0.039615</td>\n",
              "      <td>0.006154</td>\n",
              "      <td>1.038365</td>\n",
              "      <td>5.972885</td>\n",
              "      <td>-7.573077</td>\n",
              "      <td>-0.515481</td>\n",
              "      <td>17.446432</td>\n",
              "      <td>78.350198</td>\n",
              "      <td>8.50</td>\n",
              "      <td>11524100</td>\n",
              "      <td>115241</td>\n",
              "      <td>291021</td>\n",
              "    </tr>\n",
              "  </tbody>\n",
              "</table>\n",
              "<p>594 rows × 12 columns</p>\n",
              "</div>"
            ],
            "text/plain": [
              "           Ax        Ay        Az        Gx  ...  Speed      Time       T    Date\n",
              "0   -0.042549 -0.032745  1.029706  9.212647  ...   1.56  11394600  113946  291021\n",
              "1    0.030097 -0.008447  0.990388  5.012524  ...   2.03  11394700  113947  291021\n",
              "2   -0.135728 -0.004175  1.011359  4.069029  ...   6.12  11401100  114011  291021\n",
              "3   -0.076040 -0.014950  1.038317  5.916139  ...   4.75  11401200  114012  291021\n",
              "4   -0.109327 -0.008365  1.011346  4.758654  ...   5.63  11404300  114043  291021\n",
              "..        ...       ...       ...       ...  ...    ...       ...     ...     ...\n",
              "589 -0.018932 -0.012330  1.019223  4.137670  ...   8.39  11523700  115237  291021\n",
              "590 -0.039806 -0.001845  1.010971  3.299417  ...   8.64  11523800  115238  291021\n",
              "591 -0.003398 -0.032330  1.013010  7.017282  ...   8.53  11523900  115239  291021\n",
              "592 -0.015686 -0.029902  0.975098  3.259706  ...   8.38  11524000  115240  291021\n",
              "593 -0.039615  0.006154  1.038365  5.972885  ...   8.50  11524100  115241  291021\n",
              "\n",
              "[594 rows x 12 columns]"
            ]
          },
          "metadata": {},
          "execution_count": 41
        }
      ]
    },
    {
      "cell_type": "code",
      "metadata": {
        "colab": {
          "base_uri": "https://localhost:8080/"
        },
        "id": "qKDW20x7vbWR",
        "outputId": "13d7c86d-a5b2-4091-b3bd-82397e9e598c"
      },
      "source": [
        "y"
      ],
      "execution_count": null,
      "outputs": [
        {
          "output_type": "execute_result",
          "data": {
            "text/plain": [
              "0           BUMP\n",
              "1           BUMP\n",
              "2           BUMP\n",
              "3           BUMP\n",
              "4           BUMP\n",
              "          ...   \n",
              "2354    STRAIGHT\n",
              "2355    STRAIGHT\n",
              "2356    STRAIGHT\n",
              "2357    STRAIGHT\n",
              "2358    STRAIGHT\n",
              "Name: Label, Length: 2359, dtype: object"
            ]
          },
          "metadata": {},
          "execution_count": 42
        }
      ]
    },
    {
      "cell_type": "code",
      "metadata": {
        "id": "aaVRj0ugME8L"
      },
      "source": [
        "count_of_each_activity_test = np.array(y_test.value_counts())\n"
      ],
      "execution_count": null,
      "outputs": []
    },
    {
      "cell_type": "code",
      "metadata": {
        "colab": {
          "base_uri": "https://localhost:8080/"
        },
        "id": "Fcd-BhGqMLui",
        "outputId": "493d53c6-66dc-4f49-ad03-050cc4322b79"
      },
      "source": [
        "count_of_each_activity_test"
      ],
      "execution_count": null,
      "outputs": [
        {
          "output_type": "execute_result",
          "data": {
            "text/plain": [
              "array([476,  46,  29,  22,  21])"
            ]
          },
          "metadata": {},
          "execution_count": 44
        }
      ]
    },
    {
      "cell_type": "code",
      "metadata": {
        "id": "ot4Ox0h6vddJ"
      },
      "source": [
        "count_of_each_activity = np.array(y.value_counts())\n",
        "activities = ['STRAIGHT','BUMP','RIGHT','STOP',\n",
        "          'LEFT']"
      ],
      "execution_count": null,
      "outputs": []
    },
    {
      "cell_type": "code",
      "metadata": {
        "colab": {
          "base_uri": "https://localhost:8080/"
        },
        "id": "sT18kts2m350",
        "outputId": "ea8856bc-c3af-4a40-c2c8-971006fdb2d0"
      },
      "source": [
        "y.unique"
      ],
      "execution_count": null,
      "outputs": [
        {
          "output_type": "execute_result",
          "data": {
            "text/plain": [
              "<bound method Series.unique of 0           BUMP\n",
              "1           BUMP\n",
              "2           BUMP\n",
              "3           BUMP\n",
              "4           BUMP\n",
              "          ...   \n",
              "2354    STRAIGHT\n",
              "2355    STRAIGHT\n",
              "2356    STRAIGHT\n",
              "2357    STRAIGHT\n",
              "2358    STRAIGHT\n",
              "Name: Label, Length: 2359, dtype: object>"
            ]
          },
          "metadata": {},
          "execution_count": 46
        }
      ]
    },
    {
      "cell_type": "code",
      "metadata": {
        "id": "aQIMB9b6OuGg"
      },
      "source": [
        ""
      ],
      "execution_count": null,
      "outputs": []
    },
    {
      "cell_type": "code",
      "metadata": {
        "colab": {
          "base_uri": "https://localhost:8080/"
        },
        "id": "Ifs-tOcGm0ZV",
        "outputId": "508e35b7-21d3-41ed-98cc-ff65cf2f86bd"
      },
      "source": [
        "activities"
      ],
      "execution_count": null,
      "outputs": [
        {
          "output_type": "execute_result",
          "data": {
            "text/plain": [
              "['STRAIGHT', 'BUMP', 'RIGHT', 'STOP', 'LEFT']"
            ]
          },
          "metadata": {},
          "execution_count": 47
        }
      ]
    },
    {
      "cell_type": "code",
      "metadata": {
        "colab": {
          "base_uri": "https://localhost:8080/"
        },
        "id": "kdh_Xze9vfgG",
        "outputId": "4648f89b-7950-404a-ebae-5a703e5bda03"
      },
      "source": [
        "count_of_each_activity"
      ],
      "execution_count": null,
      "outputs": [
        {
          "output_type": "execute_result",
          "data": {
            "text/plain": [
              "array([1903,  182,  113,   84,   77])"
            ]
          },
          "metadata": {},
          "execution_count": 48
        }
      ]
    },
    {
      "cell_type": "code",
      "metadata": {
        "colab": {
          "base_uri": "https://localhost:8080/"
        },
        "id": "fiw2sZSYwcnz",
        "outputId": "4b24b292-40c4-4b1d-efef-999d68468093"
      },
      "source": [
        "activities"
      ],
      "execution_count": null,
      "outputs": [
        {
          "output_type": "execute_result",
          "data": {
            "text/plain": [
              "['STRAIGHT', 'BUMP', 'RIGHT', 'STOP', 'LEFT']"
            ]
          },
          "metadata": {},
          "execution_count": 49
        }
      ]
    },
    {
      "cell_type": "code",
      "metadata": {
        "colab": {
          "base_uri": "https://localhost:8080/",
          "height": 337
        },
        "id": "NBCL9dQPwfyi",
        "outputId": "f22dd791-376b-410b-ecae-c92730f8c97f"
      },
      "source": [
        "plt.figure(figsize=[15,5])\n",
        "plt.bar(activities,count_of_each_activity)"
      ],
      "execution_count": null,
      "outputs": [
        {
          "output_type": "execute_result",
          "data": {
            "text/plain": [
              "<BarContainer object of 5 artists>"
            ]
          },
          "metadata": {},
          "execution_count": 50
        },
        {
          "output_type": "display_data",
          "data": {
            "image/png": "[encoded data removed]",
            "text/plain": [
              "<Figure size 1080x360 with 1 Axes>"
            ]
          },
          "metadata": {
            "needs_background": "light"
          }
        }
      ]
    },
    {
      "cell_type": "code",
      "metadata": {
        "colab": {
          "base_uri": "https://localhost:8080/",
          "height": 827
        },
        "id": "OVee9YtTwn2X",
        "outputId": "f87837f8-cddf-435e-b60a-2ebee3caf09b"
      },
      "source": [
        "plt.figure(figsize=[10,10])\n",
        "plt.pie(count_of_each_activity, labels = activities, autopct = '%0.2f')"
      ],
      "execution_count": null,
      "outputs": [
        {
          "output_type": "execute_result",
          "data": {
            "text/plain": [
              "([<matplotlib.patches.Wedge at 0x7fd966ce0910>,\n",
              "  <matplotlib.patches.Wedge at 0x7fd966c6b110>,\n",
              "  <matplotlib.patches.Wedge at 0x7fd966c6b990>,\n",
              "  <matplotlib.patches.Wedge at 0x7fd966c772d0>,\n",
              "  <matplotlib.patches.Wedge at 0x7fd966c77e10>],\n",
              " [Text(-0.9033253828389125, 0.6276967840597341, 'STRAIGHT'),\n",
              "  Text(0.6198536248453161, -0.9087251970569113, 'BUMP'),\n",
              "  Text(0.9205244132558904, -0.6021916676606368, 'RIGHT'),\n",
              "  Text(1.0452073810208087, -0.34284330336120344, 'STOP'),\n",
              "  Text(1.0942215843976046, -0.11260161738801028, 'LEFT')],\n",
              " [Text(-0.49272293609395224, 0.34238006403258214, '80.67'),\n",
              "  Text(0.3381019771883542, -0.4956682893037697, '7.72'),\n",
              "  Text(0.5021042254123038, -0.3284681823603473, '4.79'),\n",
              "  Text(0.570113116920441, -0.18700543819702006, '3.56'),\n",
              "  Text(0.596848136944148, -0.06141906402982378, '3.26')])"
            ]
          },
          "metadata": {},
          "execution_count": 51
        },
        {
          "output_type": "display_data",
          "data": {
            "image/png": "[encoded data removed]",
            "text/plain": [
              "<Figure size 720x720 with 1 Axes>"
            ]
          },
          "metadata": {}
        }
      ]
    },
    {
      "cell_type": "code",
      "metadata": {
        "id": "s6Sp1Bg6wsjP"
      },
      "source": [
        "standing_activity= training.loc[training['Label']=='BUMP',:]\n"
      ],
      "execution_count": null,
      "outputs": []
    },
    {
      "cell_type": "code",
      "metadata": {
        "id": "1PvAs_-PwxZ-"
      },
      "source": [
        "#Reseting the index as we reset the index. This is necessary because when we selected the above rows, \n",
        "# the removed rows did get removed but the remaining rows’\n",
        "# index did not change and they were no longer in a continuous order\n",
        "standing_activity.reset_index(drop=True,inplace=True)"
      ],
      "execution_count": null,
      "outputs": []
    },
    {
      "cell_type": "code",
      "metadata": {
        "id": "0aEY7KvKxMSk"
      },
      "source": [
        "from sklearn.svm import SVC\n",
        "from sklearn.linear_model import LogisticRegression\n",
        "from sklearn.neighbors import KNeighborsClassifier\n",
        "from sklearn.ensemble import RandomForestClassifier\n",
        "from sklearn.metrics import accuracy_score\n",
        "#Import scikit-learn metrics module for accuracy calculation\n",
        "from sklearn import metrics"
      ],
      "execution_count": null,
      "outputs": []
    },
    {
      "cell_type": "code",
      "metadata": {
        "id": "_iNnwiZzxMzt"
      },
      "source": [
        "accuracy_scores = np.zeros(5)\n"
      ],
      "execution_count": null,
      "outputs": []
    },
    {
      "cell_type": "code",
      "metadata": {
        "colab": {
          "base_uri": "https://localhost:8080/"
        },
        "id": "TAW60UEexPJ0",
        "outputId": "72b9eb0a-af62-4797-bda7-08debe702412"
      },
      "source": [
        "accuracy_scores"
      ],
      "execution_count": null,
      "outputs": [
        {
          "output_type": "execute_result",
          "data": {
            "text/plain": [
              "array([0., 0., 0., 0., 0.])"
            ]
          },
          "metadata": {},
          "execution_count": 56
        }
      ]
    },
    {
      "cell_type": "code",
      "metadata": {
        "id": "lGAOLJLih_tf"
      },
      "source": [
        "score_list = [] #to keep scores of algorithms\n"
      ],
      "execution_count": null,
      "outputs": []
    },
    {
      "cell_type": "code",
      "metadata": {
        "colab": {
          "base_uri": "https://localhost:8080/",
          "height": 417
        },
        "id": "A4QynET6xvdm",
        "outputId": "a63dc4c1-9c2a-49d5-95f8-b6e5c3fd025a"
      },
      "source": [
        "x"
      ],
      "execution_count": null,
      "outputs": [
        {
          "output_type": "execute_result",
          "data": {
            "text/html": [
              "<div>\n",
              "<style scoped>\n",
              "    .dataframe tbody tr th:only-of-type {\n",
              "        vertical-align: middle;\n",
              "    }\n",
              "\n",
              "    .dataframe tbody tr th {\n",
              "        vertical-align: top;\n",
              "    }\n",
              "\n",
              "    .dataframe thead th {\n",
              "        text-align: right;\n",
              "    }\n",
              "</style>\n",
              "<table border=\"1\" class=\"dataframe\">\n",
              "  <thead>\n",
              "    <tr style=\"text-align: right;\">\n",
              "      <th></th>\n",
              "      <th>Ax</th>\n",
              "      <th>Ay</th>\n",
              "      <th>Az</th>\n",
              "      <th>Gx</th>\n",
              "      <th>Gy</th>\n",
              "      <th>Gz</th>\n",
              "      <th>Lat</th>\n",
              "      <th>Long</th>\n",
              "      <th>Speed</th>\n",
              "      <th>Time</th>\n",
              "      <th>T</th>\n",
              "      <th>Date</th>\n",
              "    </tr>\n",
              "  </thead>\n",
              "  <tbody>\n",
              "    <tr>\n",
              "      <th>0</th>\n",
              "      <td>-0.190000</td>\n",
              "      <td>-0.011748</td>\n",
              "      <td>1.027379</td>\n",
              "      <td>5.039709</td>\n",
              "      <td>-7.999126</td>\n",
              "      <td>0.796699</td>\n",
              "      <td>17.446962</td>\n",
              "      <td>78.349341</td>\n",
              "      <td>5.97</td>\n",
              "      <td>11522600</td>\n",
              "      <td>115226</td>\n",
              "      <td>291021</td>\n",
              "    </tr>\n",
              "    <tr>\n",
              "      <th>1</th>\n",
              "      <td>0.035980</td>\n",
              "      <td>-0.004706</td>\n",
              "      <td>0.999412</td>\n",
              "      <td>4.171667</td>\n",
              "      <td>-7.491471</td>\n",
              "      <td>2.031275</td>\n",
              "      <td>17.446954</td>\n",
              "      <td>78.349344</td>\n",
              "      <td>3.76</td>\n",
              "      <td>11522700</td>\n",
              "      <td>115227</td>\n",
              "      <td>291021</td>\n",
              "    </tr>\n",
              "    <tr>\n",
              "      <th>2</th>\n",
              "      <td>-0.217087</td>\n",
              "      <td>-0.008932</td>\n",
              "      <td>1.033301</td>\n",
              "      <td>4.606990</td>\n",
              "      <td>-8.224272</td>\n",
              "      <td>-1.540388</td>\n",
              "      <td>17.445938</td>\n",
              "      <td>78.350865</td>\n",
              "      <td>6.76</td>\n",
              "      <td>11525100</td>\n",
              "      <td>115251</td>\n",
              "      <td>291021</td>\n",
              "    </tr>\n",
              "    <tr>\n",
              "      <th>3</th>\n",
              "      <td>-0.066796</td>\n",
              "      <td>-0.001942</td>\n",
              "      <td>0.995049</td>\n",
              "      <td>7.210583</td>\n",
              "      <td>-4.401553</td>\n",
              "      <td>-2.650291</td>\n",
              "      <td>17.445918</td>\n",
              "      <td>78.350898</td>\n",
              "      <td>5.51</td>\n",
              "      <td>11525200</td>\n",
              "      <td>115252</td>\n",
              "      <td>291021</td>\n",
              "    </tr>\n",
              "    <tr>\n",
              "      <th>4</th>\n",
              "      <td>0.038911</td>\n",
              "      <td>0.038218</td>\n",
              "      <td>1.015248</td>\n",
              "      <td>-2.379307</td>\n",
              "      <td>-7.822871</td>\n",
              "      <td>4.207030</td>\n",
              "      <td>17.445814</td>\n",
              "      <td>78.350945</td>\n",
              "      <td>0.51</td>\n",
              "      <td>11552200</td>\n",
              "      <td>115522</td>\n",
              "      <td>291021</td>\n",
              "    </tr>\n",
              "    <tr>\n",
              "      <th>...</th>\n",
              "      <td>...</td>\n",
              "      <td>...</td>\n",
              "      <td>...</td>\n",
              "      <td>...</td>\n",
              "      <td>...</td>\n",
              "      <td>...</td>\n",
              "      <td>...</td>\n",
              "      <td>...</td>\n",
              "      <td>...</td>\n",
              "      <td>...</td>\n",
              "      <td>...</td>\n",
              "      <td>...</td>\n",
              "    </tr>\n",
              "    <tr>\n",
              "      <th>2354</th>\n",
              "      <td>-0.057573</td>\n",
              "      <td>-0.023981</td>\n",
              "      <td>1.015049</td>\n",
              "      <td>5.164078</td>\n",
              "      <td>-6.341845</td>\n",
              "      <td>0.549806</td>\n",
              "      <td>17.446139</td>\n",
              "      <td>78.350536</td>\n",
              "      <td>9.49</td>\n",
              "      <td>10043000</td>\n",
              "      <td>100430</td>\n",
              "      <td>271021</td>\n",
              "    </tr>\n",
              "    <tr>\n",
              "      <th>2355</th>\n",
              "      <td>-0.078641</td>\n",
              "      <td>-0.019320</td>\n",
              "      <td>1.024175</td>\n",
              "      <td>4.121456</td>\n",
              "      <td>-6.605340</td>\n",
              "      <td>-0.022913</td>\n",
              "      <td>17.446085</td>\n",
              "      <td>78.350591</td>\n",
              "      <td>8.98</td>\n",
              "      <td>10043100</td>\n",
              "      <td>100431</td>\n",
              "      <td>271021</td>\n",
              "    </tr>\n",
              "    <tr>\n",
              "      <th>2356</th>\n",
              "      <td>-0.136250</td>\n",
              "      <td>-0.019038</td>\n",
              "      <td>1.012500</td>\n",
              "      <td>4.148558</td>\n",
              "      <td>-6.205769</td>\n",
              "      <td>1.439519</td>\n",
              "      <td>17.446038</td>\n",
              "      <td>78.350650</td>\n",
              "      <td>8.56</td>\n",
              "      <td>10043200</td>\n",
              "      <td>100432</td>\n",
              "      <td>271021</td>\n",
              "    </tr>\n",
              "    <tr>\n",
              "      <th>2357</th>\n",
              "      <td>-0.188824</td>\n",
              "      <td>-0.026765</td>\n",
              "      <td>1.016863</td>\n",
              "      <td>5.990196</td>\n",
              "      <td>-5.995098</td>\n",
              "      <td>-0.305980</td>\n",
              "      <td>17.445999</td>\n",
              "      <td>78.350701</td>\n",
              "      <td>7.81</td>\n",
              "      <td>10043300</td>\n",
              "      <td>100433</td>\n",
              "      <td>271021</td>\n",
              "    </tr>\n",
              "    <tr>\n",
              "      <th>2358</th>\n",
              "      <td>-0.213558</td>\n",
              "      <td>-0.023750</td>\n",
              "      <td>1.013654</td>\n",
              "      <td>4.632500</td>\n",
              "      <td>-6.339808</td>\n",
              "      <td>-1.332019</td>\n",
              "      <td>17.445958</td>\n",
              "      <td>78.350746</td>\n",
              "      <td>7.27</td>\n",
              "      <td>10043400</td>\n",
              "      <td>100434</td>\n",
              "      <td>271021</td>\n",
              "    </tr>\n",
              "  </tbody>\n",
              "</table>\n",
              "<p>2359 rows × 12 columns</p>\n",
              "</div>"
            ],
            "text/plain": [
              "            Ax        Ay        Az        Gx  ...  Speed      Time       T    Date\n",
              "0    -0.190000 -0.011748  1.027379  5.039709  ...   5.97  11522600  115226  291021\n",
              "1     0.035980 -0.004706  0.999412  4.171667  ...   3.76  11522700  115227  291021\n",
              "2    -0.217087 -0.008932  1.033301  4.606990  ...   6.76  11525100  115251  291021\n",
              "3    -0.066796 -0.001942  0.995049  7.210583  ...   5.51  11525200  115252  291021\n",
              "4     0.038911  0.038218  1.015248 -2.379307  ...   0.51  11552200  115522  291021\n",
              "...        ...       ...       ...       ...  ...    ...       ...     ...     ...\n",
              "2354 -0.057573 -0.023981  1.015049  5.164078  ...   9.49  10043000  100430  271021\n",
              "2355 -0.078641 -0.019320  1.024175  4.121456  ...   8.98  10043100  100431  271021\n",
              "2356 -0.136250 -0.019038  1.012500  4.148558  ...   8.56  10043200  100432  271021\n",
              "2357 -0.188824 -0.026765  1.016863  5.990196  ...   7.81  10043300  100433  271021\n",
              "2358 -0.213558 -0.023750  1.013654  4.632500  ...   7.27  10043400  100434  271021\n",
              "\n",
              "[2359 rows x 12 columns]"
            ]
          },
          "metadata": {},
          "execution_count": 58
        }
      ]
    },
    {
      "cell_type": "code",
      "metadata": {
        "colab": {
          "base_uri": "https://localhost:8080/"
        },
        "id": "wHedw0MwxT4s",
        "outputId": "97ecc60d-8133-42b5-cf8e-33704b5a2236"
      },
      "source": [
        "# Support Vector Classifier\n",
        "clf1 = SVC(gamma='auto').fit(x, y)\n",
        "prediction_svc = clf1.predict(X_test)\n",
        "accuracy_scores[0] = accuracy_score(y_test, prediction_svc)*100\n",
        "print('Support Vector Classifier accuracy: {}%'.format(accuracy_scores[0]))"
      ],
      "execution_count": null,
      "outputs": [
        {
          "output_type": "stream",
          "name": "stdout",
          "text": [
            "Support Vector Classifier accuracy: 80.13468013468014%\n"
          ]
        }
      ]
    },
    {
      "cell_type": "code",
      "metadata": {
        "colab": {
          "base_uri": "https://localhost:8080/"
        },
        "id": "65ySGYRjxZIO",
        "outputId": "32d5479b-359a-4959-89ea-89549713e630"
      },
      "source": [
        "# Logistic Regression\n",
        "clf2 = LogisticRegression(multi_class='auto').fit(x, y)\n",
        "prediction_lr = clf2.predict(X_test)\n",
        "accuracy_scores[1] = accuracy_score(y_test, prediction_lr)*100\n",
        "print('Logistic Regression accuracy: {}%'.format(accuracy_scores[1]))"
      ],
      "execution_count": null,
      "outputs": [
        {
          "output_type": "stream",
          "name": "stdout",
          "text": [
            "Logistic Regression accuracy: 80.13468013468014%\n"
          ]
        }
      ]
    },
    {
      "cell_type": "code",
      "metadata": {
        "colab": {
          "base_uri": "https://localhost:8080/"
        },
        "id": "MMP3Qd1P0WTf",
        "outputId": "67eb94eb-1009-4040-a324-f0b0aa7bc94e"
      },
      "source": [
        "# K Nearest Neighbors\n",
        "clf3 = KNeighborsClassifier().fit(x, y)\n",
        "prediction_knn = clf3.predict(X_test)\n",
        "accuracy_scores[2] = accuracy_score(y_test, prediction_knn)*100\n",
        "print('K Nearest Neighbors Classifier accuracy: {}%'.format(accuracy_scores[2]))\n"
      ],
      "execution_count": null,
      "outputs": [
        {
          "output_type": "stream",
          "name": "stdout",
          "text": [
            "K Nearest Neighbors Classifier accuracy: 9.764309764309765%\n"
          ]
        }
      ]
    },
    {
      "cell_type": "code",
      "metadata": {
        "colab": {
          "base_uri": "https://localhost:8080/"
        },
        "id": "4SV8bUObhaQS",
        "outputId": "168085c4-c198-4c89-b1e2-ab14400ac9bd"
      },
      "source": [
        "# K Nearest Neighbors\n",
        "from sklearn.neighbors import KNeighborsClassifier\n",
        "knn = KNeighborsClassifier(n_neighbors = 150)\n",
        "knn.fit(x, y)\n",
        "prediction_knn = knn.predict(X_test)\n",
        "# Model Accuracy, how often is the classifier correct?\n",
        "accuracy_scores[1] = accuracy_score(y_test, prediction_knn )*100\n",
        "print(\"Accuracy:\",accuracy_score(y_test, prediction_knn)*100)\n"
      ],
      "execution_count": null,
      "outputs": [
        {
          "output_type": "stream",
          "name": "stdout",
          "text": [
            "Accuracy: 83.83838383838383\n"
          ]
        }
      ]
    },
    {
      "cell_type": "code",
      "metadata": {
        "colab": {
          "base_uri": "https://localhost:8080/"
        },
        "id": "Kis3VTy3pHOq",
        "outputId": "44d67f16-7ffc-443b-dff1-a4810abc725e"
      },
      "source": [
        "from sklearn.metrics import confusion_matrix\n",
        "\n",
        "cm = confusion_matrix(y_test, prediction_svc)\n",
        "print(cm)\n",
        "\n"
      ],
      "execution_count": null,
      "outputs": [
        {
          "output_type": "stream",
          "name": "stdout",
          "text": [
            "[[  0   0   0   0  46]\n",
            " [  0   0   0   0  21]\n",
            " [  0   0   0   0  29]\n",
            " [  0   0   0   0  22]\n",
            " [  0   0   0   0 476]]\n"
          ]
        }
      ]
    },
    {
      "cell_type": "code",
      "metadata": {
        "colab": {
          "base_uri": "https://localhost:8080/"
        },
        "id": "l_rgX8f-05ip",
        "outputId": "4390b6f1-be90-4192-e3c0-6c68a78891e6"
      },
      "source": [
        "# Random Forest\n",
        "clf4 = RandomForestClassifier(n_estimators=25).fit(x, y)\n",
        "prediction_rf = clf4.predict(X_test)\n",
        "accuracy_scores[2] = accuracy_score(y_test, prediction_rf)*100\n",
        "print('Random Forest Classifier accuracy: {}%'.format(accuracy_scores[2]))"
      ],
      "execution_count": null,
      "outputs": [
        {
          "output_type": "stream",
          "name": "stdout",
          "text": [
            "Random Forest Classifier accuracy: 91.24579124579124%\n"
          ]
        }
      ]
    },
    {
      "cell_type": "code",
      "metadata": {
        "colab": {
          "base_uri": "https://localhost:8080/"
        },
        "id": "Ez4Vbnj9kFS6",
        "outputId": "7ed90188-b6a1-4d3d-844e-94391d9b4c6f"
      },
      "source": [
        "#decision tree\n",
        "from sklearn.tree import DecisionTreeClassifier\n",
        "d = DecisionTreeClassifier()\n",
        "d.fit(x,y)\n",
        "prediction_dtc = d.predict(X_test)\n",
        "accuracy_scores[3] = accuracy_score(y_test, prediction_dtc)*100\n",
        "print('Decision Tree Classifier accuracy: {}%'.format(accuracy_scores[3]))"
      ],
      "execution_count": null,
      "outputs": [
        {
          "output_type": "stream",
          "name": "stdout",
          "text": [
            "Decision Tree Classifier accuracy: 86.02693602693603%\n"
          ]
        }
      ]
    },
    {
      "cell_type": "code",
      "metadata": {
        "colab": {
          "base_uri": "https://localhost:8080/"
        },
        "id": "908nK0dGme7j",
        "outputId": "742950f4-7d92-42dc-ba86-9e49152fd4f6"
      },
      "source": [
        "from sklearn.naive_bayes import GaussianNB\n",
        "nb = GaussianNB()\n",
        "nb.fit(x,y)\n",
        "prediction_nb = nb.predict(X_test)\n",
        "print(accuracy_score(y_test,prediction_nb)*100)\n",
        "accuracy_scores[4] = accuracy_score(y_test, prediction_nb)*100\n",
        "print('Naive Bayes classifier accuracy: {}%'.format(accuracy_scores[4]))"
      ],
      "execution_count": null,
      "outputs": [
        {
          "output_type": "stream",
          "name": "stdout",
          "text": [
            "83.83838383838383\n",
            "Naive Bayes classifier accuracy: 83.83838383838383%\n"
          ]
        }
      ]
    },
    {
      "cell_type": "code",
      "metadata": {
        "colab": {
          "base_uri": "https://localhost:8080/",
          "height": 638
        },
        "id": "4G_EeybT08cW",
        "outputId": "2af8530d-5a7d-4e5f-a713-c9a598f01f9c"
      },
      "source": [
        "import matplotlib.cm as cm\n",
        "\n",
        "colors = cm.rainbow(np.linspace(0, 1, 4))\n",
        "labels = ['Support Vector Classifier', 'K Nearest Neighbors', 'Random Forest', 'Decision Tree', 'Naive Bayes']\n",
        "plt.figure(figsize=[15,10])\n",
        "plt.bar(labels,\n",
        "        accuracy_scores,\n",
        "        color = colors)\n",
        "plt.xlabel('Classifiers')\n",
        "plt.ylabel('Accuracy')\n",
        "plt.title('Accuracy of various algorithms')"
      ],
      "execution_count": null,
      "outputs": [
        {
          "output_type": "execute_result",
          "data": {
            "text/plain": [
              "Text(0.5, 1.0, 'Accuracy of various algorithms')"
            ]
          },
          "metadata": {},
          "execution_count": 67
        },
        {
          "output_type": "display_data",
          "data": {
            "image/png": "[encoded data removed]",
            "text/plain": [
              "<Figure size 1080x720 with 1 Axes>"
            ]
          },
          "metadata": {
            "needs_background": "light"
          }
        }
      ]
    },
    {
      "cell_type": "code",
      "metadata": {
        "id": "7aOTqAux0_3Y"
      },
      "source": [
        "def plot_confusion_matrix(y_test, prediction, classes,\n",
        "                          normalize=False,\n",
        "                          title=None,\n",
        "                          cmap=plt.cm.Blues):\n",
        "    \"\"\"\n",
        "    This function prints and plots the confusion matrix.\n",
        "    Normalization can be applied by setting `normalize=True`.\n",
        "    \"\"\"\n",
        "    if not title:\n",
        "        if normalize:\n",
        "            title = 'Normalized confusion matrix'\n",
        "        else:\n",
        "            title = 'Confusion matrix, without normalization'\n",
        "\n",
        "    # Compute confusion matrix\n",
        "    cm = confusion_matrix(y_test, prediction)\n",
        "    if normalize:\n",
        "        cm = cm.astype('float') / cm.sum(axis=1)[:, np.newaxis]\n",
        "        print(\"Normalized confusion matrix\")\n",
        "    else:\n",
        "        print('Confusion matrix, without normalization')\n",
        "\n",
        "#     print(cm)\n",
        "\n",
        "    fig, ax = plt.subplots(figsize=(7,7))\n",
        "    im = ax.imshow(cm, interpolation='nearest', cmap=cmap)\n",
        "    ax.figure.colorbar(im, ax=ax)\n",
        "    # We want to show all ticks...\n",
        "    ax.set(xticks=np.arange(cm.shape[1]),\n",
        "           yticks=np.arange(cm.shape[0]),\n",
        "           # ... and label them with the respective list entries\n",
        "           xticklabels=classes, yticklabels=classes,\n",
        "           title=title,\n",
        "           ylabel='True label',\n",
        "           xlabel='Predicted label')\n",
        "\n",
        "    # Rotate the tick labels and set their alignment.\n",
        "    plt.setp(ax.get_xticklabels(), rotation=45, ha=\"right\",\n",
        "             rotation_mode=\"anchor\")\n",
        "    # Loop over data dimensions and create text annotations.\n",
        "    fmt = '.2f' if normalize else 'd'\n",
        "    thresh = cm.max() / 2.\n",
        "    for i in range(cm.shape[0]):\n",
        "        for j in range(cm.shape[1]):\n",
        "            ax.text(j, i, format(cm[i, j], fmt),\n",
        "                    ha=\"center\", va=\"center\",\n",
        "                    color=\"white\" if cm[i, j] > thresh else \"black\")\n",
        "    fig.tight_layout()\n",
        "    return ax\n",
        "\n",
        "\n",
        "np.set_printoptions(precision=2)"
      ],
      "execution_count": null,
      "outputs": []
    },
    {
      "cell_type": "code",
      "metadata": {
        "id": "fz-NMrfdW--7"
      },
      "source": [
        "class_names=['BUMP','LEFT', 'RIGHT',  'STOP', 'STRAIGHT']"
      ],
      "execution_count": null,
      "outputs": []
    },
    {
      "cell_type": "code",
      "metadata": {
        "id": "9dgaZUQaV7CV"
      },
      "source": [
        "from sklearn.metrics import confusion_matrix\n",
        "\n",
        "confusion_mtx_svc=confusion_matrix(y_test,prediction_svc)\n",
        "confusion_mtx_knn=confusion_matrix(y_test,prediction_knn)\n",
        "confusion_mtx_rf=confusion_matrix(y_test,prediction_rf)\n",
        "confusion_mtx_rf=confusion_matrix(y_test,prediction_dtc)\n",
        "confusion_mtx_rf=confusion_matrix(y_test,prediction_nb)\n"
      ],
      "execution_count": null,
      "outputs": []
    },
    {
      "cell_type": "code",
      "metadata": {
        "colab": {
          "base_uri": "https://localhost:8080/",
          "height": 1000
        },
        "id": "72bJAJ8VV-_q",
        "outputId": "54b66d84-5000-4ed7-cca8-12d234443832"
      },
      "source": [
        "\n",
        "plot_confusion_matrix(y_test ,prediction_svc, classes=class_names,\n",
        "                      title='Confusion matrix SVC')\n",
        "plot_confusion_matrix(y_test ,prediction_knn, classes=class_names,\n",
        "                      title='Confusion matrix KNN')\n",
        "plot_confusion_matrix(y_test ,prediction_rf, classes=class_names,\n",
        "                      title='Confusion matrix RF')\n",
        "plot_confusion_matrix(y_test ,prediction_dtc, classes=class_names,\n",
        "                      title='Confusion matrix Decision Tree')\n",
        "plot_confusion_matrix(y_test ,prediction_nb, classes=class_names,\n",
        "                      title='Confusion matrix Naive Bayes')"
      ],
      "execution_count": null,
      "outputs": [
        {
          "output_type": "stream",
          "name": "stdout",
          "text": [
            "Confusion matrix, without normalization\n",
            "Confusion matrix, without normalization\n",
            "Confusion matrix, without normalization\n",
            "Confusion matrix, without normalization\n",
            "Confusion matrix, without normalization\n"
          ]
        },
        {
          "output_type": "execute_result",
          "data": {
            "text/plain": [
              "<matplotlib.axes._subplots.AxesSubplot at 0x7fcd427410d0>"
            ]
          },
          "metadata": {},
          "execution_count": 217
        },
        {
          "output_type": "display_data",
          "data": {
            "image/png": "[encoded data removed]",
            "text/plain": [
              "<Figure size 504x504 with 2 Axes>"
            ]
          },
          "metadata": {
            "needs_background": "light"
          }
        },
        {
          "output_type": "display_data",
          "data": {
            "image/png": "[encoded data removed]",
            "text/plain": [
              "<Figure size 504x504 with 2 Axes>"
            ]
          },
          "metadata": {
            "needs_background": "light"
          }
        },
        {
          "output_type": "display_data",
          "data": {
            "image/png": "[encoded data removed]",
            "text/plain": [
              "<Figure size 504x504 with 2 Axes>"
            ]
          },
          "metadata": {
            "needs_background": "light"
          }
        },
        {
          "output_type": "display_data",
          "data": {
            "image/png": "[encoded data removed]",
            "text/plain": [
              "<Figure size 504x504 with 2 Axes>"
            ]
          },
          "metadata": {
            "needs_background": "light"
          }
        },
        {
          "output_type": "display_data",
          "data": {
            "image/png": "[encoded data removed]",
            "text/plain": [
              "<Figure size 504x504 with 2 Axes>"
            ]
          },
          "metadata": {
            "needs_background": "light"
          }
        }
      ]
    },
    {
      "cell_type": "code",
      "metadata": {
        "id": "5wTsU5GngC4p"
      },
      "source": [
        ""
      ],
      "execution_count": null,
      "outputs": []
    }
  ]
}